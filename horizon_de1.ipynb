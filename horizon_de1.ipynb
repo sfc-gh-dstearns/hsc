{
 "metadata": {
  "kernelspec": {
   "display_name": "Streamlit Notebook",
   "name": "streamlit"
  }
 },
 "nbformat_minor": 5,
 "nbformat": 4,
 "cells": [
  {
   "cell_type": "code",
   "id": "3775908f-ca36-4846-8f38-5adca39217f2",
   "metadata": {
    "language": "python",
    "name": "cell1"
   },
   "source": "# Import python packages\nimport streamlit as st\nimport pandas as pd\n\n# We can also use Snowpark for our analyses!\nfrom snowflake.snowpark.context import get_active_session\nsession = get_active_session()\nfrom snowflake.snowpark import functions as F\nfrom snowflake.snowpark import types as T\nfrom snowflake.snowpark import Window",
   "execution_count": null,
   "outputs": []
  },
  {
   "cell_type": "code",
   "id": "47f2a6f3-d023-48c5-a164-104ec94e6dca",
   "metadata": {
    "language": "python",
    "name": "cell2",
    "codeCollapsed": false
   },
   "outputs": [],
   "source": "table_name = st.selectbox(\n    label=\"Table Selector\",\n    options=[x[\"name\"] for x in session.sql(\"show tables\").collect()]\n)",
   "execution_count": null
  },
  {
   "cell_type": "code",
   "id": "4bf22370-ed45-424b-a34a-89606c9be3ab",
   "metadata": {
    "language": "sql",
    "name": "cell4",
    "codeCollapsed": false
   },
   "outputs": [],
   "source": "select * from {{table_name}} limit 100",
   "execution_count": null
  },
  {
   "cell_type": "code",
   "id": "879d9f2e-2b22-491d-90e3-8ff43e3a8e18",
   "metadata": {
    "language": "python",
    "name": "cell3",
    "codeCollapsed": false
   },
   "outputs": [],
   "source": "df = cells.cell4.to_df()\nif table_name != \"JSON_TABLE\":\n    df.show()\nelse:\n    df.show(1)",
   "execution_count": null
  },
  {
   "cell_type": "code",
   "id": "6966909c-ac8b-4b55-9457-638e1096d8c3",
   "metadata": {
    "language": "python",
    "name": "cell6",
    "codeCollapsed": false
   },
   "outputs": [],
   "source": "df = session.table(\"json_table\")\ndf.show(1)",
   "execution_count": null
  },
  {
   "cell_type": "code",
   "id": "3475be43-4ff1-447a-8e9b-0d8223e00b02",
   "metadata": {
    "language": "python",
    "name": "cell7",
    "codeCollapsed": false
   },
   "outputs": [],
   "source": "df.select(\n    F.col(\"v\"),\n    # keys ARE case sensitive!\n    F.col(\"v\")[\"BIKE\"]\n).show(1)",
   "execution_count": null
  },
  {
   "cell_type": "code",
   "id": "0d406975-72fd-4897-b701-c075c8604a36",
   "metadata": {
    "language": "python",
    "name": "cell8",
    "codeCollapsed": false
   },
   "outputs": [],
   "source": "df.select(\n    # keys ARE case sensitive!\n    F.col(\"v\")[\"BIKE\"],\n    F.col(\"v\")[\"BIKE\"][\"BIKEID\"],\n    F.col(\"v\")[\"RIDER\"]\n).show(1)",
   "execution_count": null
  },
  {
   "cell_type": "code",
   "id": "65986108-a687-4d46-aec0-3bbc35ef465f",
   "metadata": {
    "language": "python",
    "name": "cell9",
    "codeCollapsed": false
   },
   "outputs": [],
   "source": "df.select(\n    # keys ARE case sensitive!\n    F.col(\"v\")[\"BIKE\"].alias(\"bike_info\"),\n    F.col(\"v\")[\"BIKE\"][\"BIKEID\"].alias(\"bike_id\"),\n    F.col(\"v\")[\"RIDER\"].alias(\"rider_info\")\n).show(1)",
   "execution_count": null
  },
  {
   "cell_type": "code",
   "id": "21d218b3-1688-4b2a-a472-e1c8801b24ec",
   "metadata": {
    "language": "python",
    "name": "cell10",
    "codeCollapsed": false
   },
   "outputs": [],
   "source": "df.select(\n    F.to_date(F.col(\"v\")[\"STARTTIME\"]).alias(\"start_date\"),\n    F.to_date(F.col(\"v\")[\"ENDTIME\"]).alias(\"end_date\")\n).show()",
   "execution_count": null
  },
  {
   "cell_type": "code",
   "id": "22b2b23f-9ac2-46e4-91af-e27dce8de4b9",
   "metadata": {
    "language": "python",
    "name": "cell11",
    "codeCollapsed": false
   },
   "outputs": [],
   "source": "weather = session.table(\"weather\")\nweather.show(5)",
   "execution_count": null
  },
  {
   "cell_type": "code",
   "id": "0400d00c-eb0b-4cc3-b84f-80478b705736",
   "metadata": {
    "language": "python",
    "name": "cell12",
    "codeCollapsed": false
   },
   "outputs": [],
   "source": "weather.select(F.col(\"postal_code\")).distinct()",
   "execution_count": null
  },
  {
   "cell_type": "code",
   "id": "d1ef70b1-ec6c-4fe1-be65-a3d4195d3b48",
   "metadata": {
    "language": "python",
    "name": "cell13",
    "codeCollapsed": false
   },
   "outputs": [],
   "source": "# All NY-Metro zip codes\n# Aggregate into itself to represent the NY-Metro\n\nweather = weather.select(\n    F.lit(\"NY Metro\").alias(\"state\"),\n    F.col(\"postal_code\"),\n    F.col(\"date_valid_std\").alias(\"observation_date\"),\n    F.col(\"min_temperature_air_2m_f\"),\n    F.col(\"max_temperature_air_2m_f\"),\n    F.col(\"avg_temperature_air_2m_f\"),\n    F.col(\"tot_precipitation_in\"),\n    F.col(\"tot_snowfall_in\"),\n    F.col(\"tot_snowdepth_in\"),\n    F.col(\"avg_wind_speed_100m_mph\")\n).group_by(\n    [\n        F.col(\"state\"), F.col(\"observation_date\")\n    ]\n).agg(\n        F.avg(F.col(\"min_temperature_air_2m_f\")).alias(\"min_temp\"),\n        F.avg(F.col(\"max_temperature_air_2m_f\")).alias(\"max_temp\"),\n        F.avg(F.col(\"avg_temperature_air_2m_f\")).alias(\"avg_temp\"),\n        F.avg(F.col(\"tot_precipitation_in\")).alias(\"total_precipitation\"),\n        F.avg(F.col(\"tot_snowfall_in\")).alias(\"total_snowfall\"),\n        F.avg(F.col(\"tot_snowdepth_in\")).alias(\"snowdepth\"),\n        F.avg(F.col(\"avg_wind_speed_100m_mph\")).alias(\"wind_speed\")\n    )",
   "execution_count": null
  },
  {
   "cell_type": "code",
   "id": "ae956ba6-5364-4c77-b9c0-81ce15cf36d1",
   "metadata": {
    "language": "python",
    "name": "cell14",
    "codeCollapsed": false
   },
   "outputs": [],
   "source": "weather.show()",
   "execution_count": null
  },
  {
   "cell_type": "code",
   "id": "25f17d79-4163-43a3-a506-f38e4829b6af",
   "metadata": {
    "language": "python",
    "name": "cell15",
    "codeCollapsed": false
   },
   "outputs": [],
   "source": "weather.count()",
   "execution_count": null
  },
  {
   "cell_type": "code",
   "id": "55d16de4-3a92-472d-86f5-c3279bc799ec",
   "metadata": {
    "language": "python",
    "name": "cell16",
    "codeCollapsed": false
   },
   "outputs": [],
   "source": "weather.select(\n    F.max(F.col(\"observation_date\")).alias(\"max_date\"),\n    F.min(F.col(\"observation_date\")).alias(\"min_date\")\n).show()",
   "execution_count": null
  },
  {
   "cell_type": "code",
   "id": "ff7ba54b-1d02-4c84-8062-720716e98bb5",
   "metadata": {
    "language": "python",
    "name": "cell19",
    "codeCollapsed": false
   },
   "outputs": [],
   "source": "ads = session.table(\"advertisements\")\nads.show()",
   "execution_count": null
  },
  {
   "cell_type": "code",
   "id": "107067e6-4254-440b-83bc-503857216921",
   "metadata": {
    "language": "python",
    "name": "cell17",
    "codeCollapsed": false
   },
   "outputs": [],
   "source": "ads.join(\n    weather,\n    F.to_date(ads[\"starttime\"])==weather[\"observation_date\"]\n).show()",
   "execution_count": null
  },
  {
   "cell_type": "code",
   "id": "4687641f-bd31-4937-8695-6bcdeece0382",
   "metadata": {
    "language": "python",
    "name": "cell20",
    "codeCollapsed": false
   },
   "outputs": [],
   "source": "kiosks = session.table(\"kiosks\")\nkiosks.show(1)",
   "execution_count": null
  },
  {
   "cell_type": "code",
   "id": "75cb0bac-8d25-4aab-bded-00e99d0d7458",
   "metadata": {
    "language": "python",
    "name": "cell21",
    "codeCollapsed": false
   },
   "outputs": [],
   "source": "ads.join(\n    kiosks,\n    ads[\"start_station_id\"]==kiosks[\"station_id\"]\n).show(2)",
   "execution_count": null
  },
  {
   "cell_type": "code",
   "id": "1a91a30e-2c16-4726-84f7-6f38761be9fb",
   "metadata": {
    "language": "python",
    "name": "cell18",
    "codeCollapsed": false
   },
   "outputs": [],
   "source": "ad_locations = ads.join(\n    kiosks,\n    ads[\"start_station_id\"]==kiosks[\"station_id\"]\n)\n",
   "execution_count": null
  },
  {
   "cell_type": "code",
   "id": "c82960f7-1909-435f-a0da-c886b951c5ce",
   "metadata": {
    "language": "python",
    "name": "cell22",
    "codeCollapsed": false
   },
   "outputs": [],
   "source": "ad_locations.select(\n    *ad_locations,\n    F.to_date(F.col(\"starttime\")).alias(\"date\"),\n    # Time of Day feature\n    # 3 - Late / 0 - Morning / 1 - Afternoon / 2 - Evening\n    (\n        F.when(\n            F.to_time(F.col(\"starttime\")).between('00:00', '04:59'),\n            F.lit(3)\n        ).when(\n            F.to_time(F.col(\"starttime\")).between('05:00', '11:59'),\n            F.lit(0)\n        ).when(\n            F.to_time(F.col(\"starttime\")).between('12:00', '16:59'),\n            F.lit(1)\n        ).when(\n            F.to_time(F.col(\"starttime\")).between('17:00', '23:59'),\n            F.lit(2)\n        )\n    ).alias(\"time_of_day\")\n    ).select(\n        F.col(\"date\"),\n        F.col(\"time_of_day\"),\n        F.col(\"station_id\")\n    ).groupBy(\n        F.col(\"date\"),\n        F.col(\"time_of_day\"),\n        F.col(\"station_id\")\n    ).count().select(\n        F.col(\"date\"),\n        F.col(\"time_of_day\"),\n        F.col(\"station_id\"),\n        F.col(\"count\").alias(\"y\"),\n        F.log(\n            base=10,\n            x=F.col(\"count\")\n        ).alias(\"y_log\"),\n        F.lag(\n            F.col(\"y_log\")).over(\n                window=Window.orderBy(\n                    [\n                        F.col(\"station_id\"), F.col(\"time_of_day\"), F.col(\"date\")\n                    ]\n                )\n            ).alias(\"y_log_lag\")\n    ).orderBy(\n        F.col(\"date\").asc(),\n        F.col(\"time_of_day\").asc(),\n        F.col(\"station_id\")\n    ).show()",
   "execution_count": null
  },
  {
   "cell_type": "code",
   "id": "a66e5411-43ed-4a0e-bff0-85bdc119cc2e",
   "metadata": {
    "language": "python",
    "name": "cell23",
    "codeCollapsed": false
   },
   "outputs": [],
   "source": "ad_locations = ad_locations.select(\n    *ad_locations,\n    F.to_date(F.col(\"starttime\")).alias(\"date\"),\n    # Time of Day feature\n    # 3 - Late / 0 - Morning / 1 - Afternoon / 2 - Evening\n    (\n        F.when(\n            F.to_time(F.col(\"starttime\")).between('00:00', '04:59'),\n            F.lit(3)\n        ).when(\n            F.to_time(F.col(\"starttime\")).between('05:00', '11:59'),\n            F.lit(0)\n        ).when(\n            F.to_time(F.col(\"starttime\")).between('12:00', '16:59'),\n            F.lit(1)\n        ).when(\n            F.to_time(F.col(\"starttime\")).between('17:00', '23:59'),\n            F.lit(2)\n        )\n    ).alias(\"time_of_day\")\n    ).select(\n        F.col(\"date\"),\n        F.col(\"time_of_day\"),\n        F.col(\"station_id\")\n    ).groupBy(\n        F.col(\"date\"),\n        F.col(\"time_of_day\"),\n        F.col(\"station_id\")\n    ).count().select(\n        F.col(\"date\"),\n        F.col(\"time_of_day\"),\n        F.col(\"station_id\"),\n        F.col(\"count\").alias(\"y\"),\n        F.log(\n            base=10,\n            x=F.col(\"count\")\n        ).alias(\"y_log\"),\n        F.lag(\n            F.col(\"y_log\")).over(\n                window=Window.orderBy(\n                    [\n                        F.col(\"station_id\"), F.col(\"time_of_day\"), F.col(\"date\")\n                    ]\n                )\n            ).alias(\"y_log_lag\")\n    ).orderBy(\n        F.col(\"date\").asc(),\n        F.col(\"time_of_day\").asc(),\n        F.col(\"station_id\")\n    )",
   "execution_count": null
  },
  {
   "cell_type": "code",
   "id": "5c2747a3-0268-4f80-bd19-0b368dd9f2de",
   "metadata": {
    "language": "python",
    "name": "cell24",
    "codeCollapsed": false
   },
   "outputs": [],
   "source": "ad_locations.join(\n    weather,\n    ad_locations[\"date\"] == weather[\"observation_date\"]\n).show()",
   "execution_count": null
  },
  {
   "cell_type": "code",
   "id": "66ed9494-7b40-4c3e-8a5d-2985448ea290",
   "metadata": {
    "language": "python",
    "name": "cell5"
   },
   "outputs": [],
   "source": "ad_locations_weather = ad_locations.join(\n    weather,\n    ad_locations[\"date\"] == weather[\"observation_date\"]\n)\n\nad_locations_weather.write.save_as_table(table_name=\"david_table\", mode=\"overwrite\")",
   "execution_count": null
  },
  {
   "cell_type": "code",
   "id": "9ca5a088-5764-44d0-8db3-67bd2a899078",
   "metadata": {
    "language": "python",
    "name": "cell25"
   },
   "outputs": [],
   "source": "",
   "execution_count": null
  }
 ]
}