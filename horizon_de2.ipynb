{
 "metadata": {
  "kernelspec": {
   "display_name": "Streamlit Notebook",
   "name": "streamlit"
  }
 },
 "nbformat_minor": 5,
 "nbformat": 4,
 "cells": [
  {
   "cell_type": "code",
   "id": "3775908f-ca36-4846-8f38-5adca39217f2",
   "metadata": {
    "language": "python",
    "name": "cell1"
   },
   "source": "# Import python packages\nimport streamlit as st\nimport pandas as pd\n\n# We can also use Snowpark for our analyses!\nfrom snowflake.snowpark.context import get_active_session\nsession = get_active_session()\nfrom snowflake.snowpark import functions as F\nfrom snowflake.snowpark import types as T\nfrom snowflake.snowpark import Window",
   "execution_count": null,
   "outputs": []
  },
  {
   "cell_type": "code",
   "id": "5d50e526-cbe9-44db-81fa-3bac346a136d",
   "metadata": {
    "language": "python",
    "name": "cell8",
    "codeCollapsed": false
   },
   "outputs": [],
   "source": "name = \"dave\"\nname = name.upper()",
   "execution_count": null
  },
  {
   "cell_type": "code",
   "id": "bb0756f7-9c20-4faf-a2d3-4d9e212df20b",
   "metadata": {
    "language": "python",
    "name": "cell2",
    "codeCollapsed": false
   },
   "outputs": [],
   "source": "schema = T.StructType(\n    [\n        T.StructField(\"POINT_IN_TIME\", T.TimestampType())\n    ]\n)\ndf = session.create_dataframe(data=[], schema=schema)",
   "execution_count": null
  },
  {
   "cell_type": "code",
   "id": "ffbcbbd5-9b09-47c4-a907-ba48a7bd47d3",
   "metadata": {
    "language": "python",
    "name": "cell3",
    "codeCollapsed": false
   },
   "outputs": [],
   "source": "df",
   "execution_count": null
  },
  {
   "cell_type": "code",
   "id": "4d1a6d11-ccfa-4a5f-9c99-e632380e996c",
   "metadata": {
    "language": "sql",
    "name": "cell6"
   },
   "outputs": [],
   "source": "create table if not exists {{name}}_time_table\n    (\n    point_in_time time\n    )",
   "execution_count": null
  },
  {
   "cell_type": "code",
   "id": "b134e3aa-4ec4-40aa-b825-5cc47ad079c1",
   "metadata": {
    "language": "python",
    "name": "cell4",
    "codeCollapsed": false
   },
   "outputs": [],
   "source": "ct = session.sql(\"select current_time()\")\nct.show()",
   "execution_count": null
  },
  {
   "cell_type": "code",
   "id": "22f63b3b-6d8b-466c-8746-e7619b5eb1ad",
   "metadata": {
    "language": "python",
    "name": "cell5",
    "codeCollapsed": false
   },
   "outputs": [],
   "source": "ct.write.save_as_table(f\"{name}_time_table\", mode=\"append\")",
   "execution_count": null
  },
  {
   "cell_type": "code",
   "id": "8a621d7b-bfa0-42c4-b9aa-0655a74ecccf",
   "metadata": {
    "language": "python",
    "name": "cell7",
    "codeCollapsed": false
   },
   "outputs": [],
   "source": "session.table(f\"{name}_time_table\").show()",
   "execution_count": null
  },
  {
   "cell_type": "code",
   "id": "2f5f5466-6266-4961-956a-6359f29f7e45",
   "metadata": {
    "language": "python",
    "name": "cell9",
    "codeCollapsed": false
   },
   "outputs": [],
   "source": "",
   "execution_count": null
  }
 ]
}